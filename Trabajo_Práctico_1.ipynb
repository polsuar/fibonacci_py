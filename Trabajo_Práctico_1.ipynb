{
  "nbformat": 4,
  "nbformat_minor": 0,
  "metadata": {
    "colab": {
      "name": "Trabajo Práctico 1.ipynb",
      "provenance": [],
      "collapsed_sections": []
    },
    "kernelspec": {
      "name": "python3",
      "display_name": "Python 3"
    }
  },
  "cells": [
    {
      "cell_type": "markdown",
      "metadata": {
        "id": "nyZbS-oFOl7-"
      },
      "source": [
        "1. Cada término en la serie de Fibonacci es generado a partir de la suma de los dos términos previos,\n",
        "empezando de 0 y 1, los diez primeros términos serán: 0, 1, 1, 2, 3, 5, 8, 13, 21, 34, … Considerando\n",
        "los términos de la serie de Fibonacci que son impares, y sus valores por debajo de un millón, escriba\n",
        "el algoritmo de una función que encuentre la suma de dichos términos. "
      ]
    },
    {
      "cell_type": "code",
      "metadata": {
        "id": "0O2ysgNHOyTy"
      },
      "source": [
        "valor_maximo = int(input(\"Ingrese valor maximo: \"))\n",
        "f0 = 0\n",
        "f1 = 1\n",
        "i = 2\n",
        "suma_impar = 0\n",
        "\n",
        "\n",
        "while(f1+f0 < valor_maximo):\n",
        "  f2 = f1+f0\n",
        "  i = i+1\n",
        "  if(i % 2==1):\n",
        "    suma_impar = suma_impar + f2\n",
        "  f0 = f1\n",
        "  f1 = f2\n",
        "#  print(f0,f1,f2,i,suma_impar)\n",
        "print('La suma de los términos de la serie de Fibonacci que son impares es',suma_impar)"
      ],
      "execution_count": null,
      "outputs": []
    },
    {
      "cell_type": "markdown",
      "metadata": {
        "id": "VrYjAqCtO-vT"
      },
      "source": [
        "2. Escriba un algoritmo que permita leer el DNI de un alumno y calcular la nota promedio de dos\n",
        "parciales de una asignatura. Determine si un alumno promociona (promedio >=7), regulariza\n",
        "(promedio >=4) o recupera (uno o ambos parciales desaprobados)"
      ]
    },
    {
      "cell_type": "code",
      "metadata": {
        "id": "xjzFonV7PCoy"
      },
      "source": [
        "dni = input(\"Ingrese su DNI: \")\n",
        "n1 = int(input(\"Ingrese nota primer parcial: \"))\n",
        "n2 = int(input(\"Ingrese nota segundo parcial: \"))\n",
        "promedio = (n1+n2)/2\n",
        "\n",
        "if (n1 < 4 ):\n",
        "  print('El alumno con DNI:',dni,'recupera el primer parcial')\n",
        "elif (n2 < 4):\n",
        "  print('El alumno con DNI:',dni,'recupera el segundo parcial')\n",
        "elif (n1 < 4 and n2 < 4):\n",
        "  print('El alumno con DNI:',dni,'recupera los dos parciales')\n",
        "elif (promedio >= 7):\n",
        "  print('El alumno con DNI:',dni,'promociona la materia con promedio',promedio)\n",
        "else:\n",
        "  print('El alumno con DNI:',dni,'regulariza la materia con promedio',promedio)"
      ],
      "execution_count": null,
      "outputs": []
    },
    {
      "cell_type": "markdown",
      "metadata": {
        "id": "_ikn0tscPMpf"
      },
      "source": [
        "3. Modifique el algoritmo anterior para leer las notas de 10 alumnos y usar el algoritmo del punto 2.\n",
        "para calcular la condición (promociona, regulariza o recupera) de cada uno de los alumnos. "
      ]
    },
    {
      "cell_type": "code",
      "metadata": {
        "id": "zsoM_b-nPRiv"
      },
      "source": [
        "alumnos = 0\n",
        "while alumnos < 10:\n",
        "  dni=input(\"Ingrese su DNI: \")\n",
        "  n1 = int(input(\"Ingrese nota primer parcial: \"))\n",
        "  n2 = int(input(\"Ingrese nota segundo parcial: \"))\n",
        "  promedio = (n1+n2)/2\n",
        "  \n",
        "  if (n1 < 4):\n",
        "    print('El alumno con DNI:',dni,'recupera el primer parcial\\n')\n",
        "  elif (n2 < 4):\n",
        "    print('El alumno con DNI:',dni,'recupera el segundo parcial\\n')\n",
        "  elif (n1 < 4 and n2 < 4):\n",
        "    print('El alumno con DNI:',dni,'recupera los dos parciales\\n')\n",
        "  elif (promedio >= 7):\n",
        "    print('El alumno con DNI:',dni,'promociona la materia con promedio',promedio,'\\n')\n",
        "  else:\n",
        "    print('El alumno con DNI:',dni,'regulariza la materia con promedio',promedio,'\\n')\n",
        "  \n",
        "  alumnos = alumnos + 1"
      ],
      "execution_count": null,
      "outputs": []
    },
    {
      "cell_type": "markdown",
      "metadata": {
        "id": "he5knyZ2dGLm"
      },
      "source": [
        "4. Se quiere obtener el valor de la integral ∫ 𝑓(𝑥)\n",
        "2\n",
        "0\n",
        "donde 𝑓(𝑥) = 𝑥\n",
        "7 − 15𝑥\n",
        "3 + 10𝑥 + 20\n",
        "a. Escriba un algoritmo que calcule el área usando la regla de Trapecio\n",
        "Compuesto.\n",
        "b. Implemente en Python su algoritmo y pruebe para distintos números de\n",
        "subintervalos."
      ]
    },
    {
      "cell_type": "code",
      "metadata": {
        "id": "pSnT7wvRhZOD",
        "colab": {
          "base_uri": "https://localhost:8080/"
        },
        "outputId": "df291168-3dda-4b1e-a743-c9276ed1a4e9"
      },
      "source": [
        "import numpy as np\n",
        "\n",
        "#Ingreso valores deseados\n",
        "int_inf = float(input('Ingrese valor de subintervalo inferior: ')) \n",
        "int_sup = float(input('Ingrese valor de subintervalo superior: '))\n",
        "n_int = int(input('Ingrese cantidad de intervalos que desea subdividir: '))\n",
        "\n",
        "#Creo variable h (paso)\n",
        "h = (int_sup - int_inf) / n_int\n",
        "\n",
        "#Creo arreglo de valores (intermedios) que tienen que tomar x para realizar sumatoria\n",
        "x = np.linspace(int_inf+h, int_sup-h, n_int-1)\n",
        "\n",
        "#Creo las ecuaciones\n",
        "y = x**7 - 15*x**3 + 10*x + 20\n",
        "finf = int_inf**7 - 15*int_inf**3 + 10*int_inf + 20\n",
        "fsup = int_sup**7 - 15*int_sup**3 + 10*int_sup + 20\n",
        "\n",
        "#Hago la sumatoria\n",
        "suma = sum(y)\n",
        "\n",
        "#Creo ecuacion final\n",
        "Itc = (h/2)*(finf+2*suma+fsup) \n",
        "\n",
        "print(\"El valor de la integral es:\", Itc)"
      ],
      "execution_count": null,
      "outputs": [
        {
          "output_type": "stream",
          "text": [
            "Ingrese valor de subintervalo inferior: 0\n",
            "Ingrese valor de subintervalo superior: 2\n",
            "Ingrese cantidad de intervalos que desea subdividir: 8\n",
            "El valor de la integral es: 33.377685546875\n"
          ],
          "name": "stdout"
        }
      ]
    },
    {
      "cell_type": "code",
      "metadata": {
        "id": "0QeGCJtW0Mz9",
        "colab": {
          "base_uri": "https://localhost:8080/"
        },
        "outputId": "249ce617-650a-4db2-994b-0de92d47e78d"
      },
      "source": [
        "import numpy as np\n",
        "\n",
        "def itc_maker(int_inf,int_sup,n_int):\n",
        "  #Creo variable h (paso)\n",
        "  h = (int_sup - int_inf) / n_int\n",
        "  #Creo arreglo de valores (intermedios) que tienen que tomar x para realizar sumatoria\n",
        "  val_int = np.linspace(int_inf+h, int_sup-h, n_int-1)\n",
        "  #Creo la funcion de la ecuacion\n",
        "  def ecuacion(x):\n",
        "    y = x**7 - 15*x**3 + 10*x + 20\n",
        "    return y\n",
        "  #Resuelvo ecuaciones\n",
        "  finf = ecuacion(int_inf)\n",
        "  fsup = ecuacion(int_sup)\n",
        "  lista_val = ecuacion(val_int)\n",
        "  #Hago la sumatoria\n",
        "  suma = sum(lista_val)\n",
        "  #Creo ecuacion final\n",
        "  Itc = (h/2)*(finf+2*suma+fsup) \n",
        "\n",
        "  return print('El valor del área es:', Itc)\n",
        "\n",
        "\n",
        "#Ingreso valores deseados\n",
        "int_inf = float(input('Ingrese valor de subintervalo inferior')) \n",
        "int_sup = float(input('Ingrese valor de subintervalo superior'))\n",
        "n_int = int(input('Ingrese cantidad de intervalos que desea subdividir'))\n",
        "\n",
        "\n",
        "itc_maker(int_inf,int_sup,n_int)"
      ],
      "execution_count": null,
      "outputs": [
        {
          "output_type": "stream",
          "text": [
            "Ingrese valor de subintervalo inferior0\n",
            "Ingrese valor de subintervalo superior2\n",
            "Ingrese cantidad de intervalos que desea subdividir8\n",
            "El valor del área es: 33.377685546875\n"
          ],
          "name": "stdout"
        }
      ]
    }
  ]
}